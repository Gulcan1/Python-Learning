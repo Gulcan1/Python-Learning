{
 "cells": [
  {
   "cell_type": "code",
   "execution_count": 4,
   "metadata": {},
   "outputs": [
    {
     "name": "stdout",
     "output_type": "stream",
     "text": [
      "First Number  :5\n",
      "Second Number :6\n",
      "======================================\n",
      "Sum: 11.0\n",
      "Division: 0.8333333333333334\n",
      "Multiply: 30.0\n",
      "Extraction: -1.0\n",
      "======================================\n"
     ]
    }
   ],
   "source": [
    "sayi1=float(input(\"First Number  :\"))\n",
    "sayi2=float(input(\"Second Number :\"))\n",
    "print(\"======================================\")\n",
    "print(\"Sum:\",sayi1+sayi2)\n",
    "print(\"Division:\",sayi1/sayi2)\n",
    "print(\"Multiply:\",sayi1*sayi2)\n",
    "print(\"Extraction:\",sayi1-sayi2)\n",
    "print(\"======================================\")"
   ]
  },
  {
   "cell_type": "code",
   "execution_count": 5,
   "metadata": {},
   "outputs": [
    {
     "name": "stdout",
     "output_type": "stream",
     "text": [
      "First Number  :5\n",
      "Second Number :8\n",
      "======================================\n",
      "Sum: 13\n",
      "Division: 0.625\n",
      "Multiply: 40\n",
      "Extraction: -3\n",
      "======================================\n"
     ]
    }
   ],
   "source": [
    "sayi1=int(input(\"First Number  :\"))\n",
    "sayi2=int(input(\"Second Number :\"))\n",
    "print(\"======================================\")\n",
    "print(\"Sum:\",sayi1+sayi2)\n",
    "print(\"Division:\",sayi1/sayi2)\n",
    "print(\"Multiply:\",sayi1*sayi2)\n",
    "print(\"Extraction:\",sayi1-sayi2)\n",
    "print(\"======================================\")"
   ]
  }
 ],
 "metadata": {
  "kernelspec": {
   "display_name": "Python 3",
   "language": "python",
   "name": "python3"
  },
  "language_info": {
   "codemirror_mode": {
    "name": "ipython",
    "version": 3
   },
   "file_extension": ".py",
   "mimetype": "text/x-python",
   "name": "python",
   "nbconvert_exporter": "python",
   "pygments_lexer": "ipython3",
   "version": "3.7.1"
  }
 },
 "nbformat": 4,
 "nbformat_minor": 2
}
