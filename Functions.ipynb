{
 "cells": [
  {
   "cell_type": "code",
   "execution_count": 10,
   "metadata": {},
   "outputs": [
    {
     "name": "stdout",
     "output_type": "stream",
     "text": [
      "8\n"
     ]
    }
   ],
   "source": [
    "def sum():\n",
    "    result=3+5\n",
    "    print(result)\n",
    "sum()"
   ]
  },
  {
   "cell_type": "code",
   "execution_count": 12,
   "metadata": {},
   "outputs": [
    {
     "name": "stdout",
     "output_type": "stream",
     "text": [
      "7\n",
      "56571\n"
     ]
    }
   ],
   "source": [
    "def sum(firstnumber,secondnumber):\n",
    "    result=firstnumber+secondnumber\n",
    "    print(result)\n",
    "sum(2,5)\n",
    "sum(10,56561)"
   ]
  },
  {
   "cell_type": "code",
   "execution_count": 15,
   "metadata": {},
   "outputs": [
    {
     "data": {
      "text/plain": [
       "56571"
      ]
     },
     "execution_count": 15,
     "metadata": {},
     "output_type": "execute_result"
    }
   ],
   "source": [
    "def sum(firstnumber,secondnumber):\n",
    "    result=firstnumber+secondnumber\n",
    "    return result\n",
    "\n",
    "sum(10,56561)"
   ]
  },
  {
   "cell_type": "markdown",
   "metadata": {},
   "source": [
    "Triangle Application"
   ]
  },
  {
   "cell_type": "code",
   "execution_count": 17,
   "metadata": {},
   "outputs": [
    {
     "name": "stdout",
     "output_type": "stream",
     "text": [
      "This is a triangle\n"
     ]
    }
   ],
   "source": [
    "def triangle(a,b,c):\n",
    "    if a**2+b**2==c**2:\n",
    "        return\"This is a triangle\"\n",
    "    else:\n",
    "        return \"This is not\"\n",
    "print(triangle(3,4,5))"
   ]
  },
  {
   "cell_type": "markdown",
   "metadata": {},
   "source": [
    "Rectangular"
   ]
  },
  {
   "cell_type": "code",
   "execution_count": 57,
   "metadata": {},
   "outputs": [
    {
     "name": "stdout",
     "output_type": "stream",
     "text": [
      "         /\\\n",
      "        /  \\\n",
      "       /    \\\n",
      "      /      \\\n",
      "     /        \\\n",
      "    /          \\\n",
      "   /            \\\n",
      "  /              \\\n",
      " /                \\\n",
      "/                  \\\n",
      "\\                  /\n",
      " \\                /\n",
      "  \\              /\n",
      "   \\            /\n",
      "    \\          /\n",
      "     \\        /\n",
      "      \\      /\n",
      "       \\    /\n",
      "        \\  /\n",
      "         \\/\n"
     ]
    }
   ],
   "source": [
    "def rightsla(element):\n",
    "    for i in range(int(element)):\n",
    "        print(\"/\",end=\"\")\n",
    "\n",
    "\n",
    " \n",
    "def leftsla(element):\n",
    "    for i in range(int(element)):\n",
    "        print(\"\\\\\",end=\"\")\n",
    "\n",
    "def jump(element):\n",
    "    for i in range(int(element)):\n",
    "        print()\n",
    "def emty(element):\n",
    "    for i in range(int(element)):\n",
    "        print(\" \",end=\"\")\n",
    "def top(radius):\n",
    "    beginneremty=radius/2-1\n",
    "    for i in range(int(radius/2)):\n",
    "        emty(beginneremty-i)\n",
    "        rightsla(1)\n",
    "        emty(i*2)\n",
    "        leftsla(1)\n",
    "        jump(1)\n",
    "\n",
    "def bottom(radius):\n",
    "    beginneremty=radius-2\n",
    "    for i in range(int(radius/2)):\n",
    "        emty(i)\n",
    "        leftsla(1)\n",
    "        emty(beginneremty-(i*2))\n",
    "        rightsla(1)\n",
    "        jump(1)\n",
    "def rectangular(radius):\n",
    "        top(radius)\n",
    "        bottom(radius)\n",
    "rectangular(20)       "
   ]
  },
  {
   "cell_type": "code",
   "execution_count": null,
   "metadata": {},
   "outputs": [],
   "source": []
  }
 ],
 "metadata": {
  "kernelspec": {
   "display_name": "Python 3",
   "language": "python",
   "name": "python3"
  },
  "language_info": {
   "codemirror_mode": {
    "name": "ipython",
    "version": 3
   },
   "file_extension": ".py",
   "mimetype": "text/x-python",
   "name": "python",
   "nbconvert_exporter": "python",
   "pygments_lexer": "ipython3",
   "version": "3.7.1"
  }
 },
 "nbformat": 4,
 "nbformat_minor": 2
}
