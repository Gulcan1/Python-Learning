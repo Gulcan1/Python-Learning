{
 "cells": [
  {
   "cell_type": "code",
   "execution_count": 2,
   "metadata": {},
   "outputs": [
    {
     "name": "stdout",
     "output_type": "stream",
     "text": [
      "29\n"
     ]
    }
   ],
   "source": [
    "string=\"abcçdefgğhıijklmnoöprsştuüvyz\"\n",
    "print(len(string))"
   ]
  },
  {
   "cell_type": "code",
   "execution_count": 13,
   "metadata": {},
   "outputs": [
    {
     "name": "stdout",
     "output_type": "stream",
     "text": [
      "a\n",
      "b\n",
      "c\n",
      "ç\n",
      "d\n",
      "e\n",
      "f\n",
      "g\n",
      "ğ\n",
      "h\n",
      "ı\n",
      "i\n",
      "j\n",
      "k\n",
      "l\n",
      "m\n",
      "n\n",
      "o\n",
      "ö\n",
      "p\n",
      "r\n",
      "s\n",
      "ş\n",
      "t\n",
      "u\n",
      "ü\n",
      "v\n",
      "y\n",
      "z\n"
     ]
    }
   ],
   "source": [
    "alphabet=\"abcçdefgğhıijklmnoöprsştuüvyz\"\n",
    "for letter in alphabet:\n",
    "    print(letter)"
   ]
  },
  {
   "cell_type": "code",
   "execution_count": 11,
   "metadata": {},
   "outputs": [
    {
     "name": "stdout",
     "output_type": "stream",
     "text": [
      "abcçdefgğhıijklmnoöprsştuüvyz29\n"
     ]
    }
   ],
   "source": [
    "alphabet=\"abcçdefgğhıijklmnoöprsştuüvyz\"\n",
    "number=0\n",
    "for x in alphabet:\n",
    "    print(x,end=\"\")\n",
    "    number=number+1\n",
    "    \n",
    "print(number)"
   ]
  },
  {
   "cell_type": "code",
   "execution_count": 12,
   "metadata": {},
   "outputs": [
    {
     "name": "stdout",
     "output_type": "stream",
     "text": [
      "Element Numbers: 29\n"
     ]
    }
   ],
   "source": [
    "alphabet=\"abcçdefgğhıijklmnoöprsştuüvyz\"\n",
    "number=0\n",
    "for i in alphabet:\n",
    "    number+=1\n",
    "print(\"Element Numbers:\",number)"
   ]
  }
 ],
 "metadata": {
  "kernelspec": {
   "display_name": "Python 3",
   "language": "python",
   "name": "python3"
  },
  "language_info": {
   "codemirror_mode": {
    "name": "ipython",
    "version": 3
   },
   "file_extension": ".py",
   "mimetype": "text/x-python",
   "name": "python",
   "nbconvert_exporter": "python",
   "pygments_lexer": "ipython3",
   "version": "3.7.1"
  }
 },
 "nbformat": 4,
 "nbformat_minor": 2
}
