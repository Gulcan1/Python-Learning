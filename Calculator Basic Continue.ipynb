{
 "cells": [
  {
   "cell_type": "code",
   "execution_count": 2,
   "metadata": {},
   "outputs": [
    {
     "name": "stdout",
     "output_type": "stream",
     "text": [
      "\n",
      "[1]Sum\n",
      "[2]Difference\n",
      "[3]Multiply\n",
      "[4]Division\n",
      "[5]Power\n",
      "[Q]Çıkış\n",
      "\n",
      "\n",
      "You select one valueq\n",
      "Exist\n"
     ]
    }
   ],
   "source": [
    "print(\"\"\"\n",
    "[1]Sum\n",
    "[2]Difference\n",
    "[3]Multiply\n",
    "[4]Division\n",
    "[5]Power\n",
    "[Q]Çıkış\n",
    "\n",
    "\"\"\")\n",
    "entry=input(\"You select one value\")\n",
    "\n",
    "if entry==\"1\":\n",
    "    x=float(input(\"You enter first number\"))\n",
    "    y=float(input(\"You enter second number\"))\n",
    "    print(\"Sum :\",x+y)\n",
    "elif entry==\"2\":\n",
    "    x=float(input(\"You enter first number\"))\n",
    "    y=float(input(\"You enter second number\"))\n",
    "    print(\"Difference :\",x-y)\n",
    "elif entry==\"3\":\n",
    "    x=float(input(\"You enter first number\"))\n",
    "    y=float(input(\"You enter second number\"))\n",
    "    print(\"Multiply :\",x*y)\n",
    "elif entry==\"4\":\n",
    "    x=float(input(\"You enter first number\"))\n",
    "    y=float(input(\"You enter second number\"))\n",
    "    print(\"Divison :\",x/y)\n",
    "elif entry==\"5\":\n",
    "    x=float(input(\"You enter first number\"))\n",
    "    y=int(input(\"You enter second number\"))\n",
    "    print(\"Power:\",x**y)\n",
    "\n",
    "elif entry==\"Q\" or \"q\" :\n",
    "    print(\"Exist\")\n",
    "    quit()\n"
   ]
  },
  {
   "cell_type": "code",
   "execution_count": null,
   "metadata": {},
   "outputs": [],
   "source": []
  }
 ],
 "metadata": {
  "kernelspec": {
   "display_name": "Python 3",
   "language": "python",
   "name": "python3"
  },
  "language_info": {
   "codemirror_mode": {
    "name": "ipython",
    "version": 3
   },
   "file_extension": ".py",
   "mimetype": "text/x-python",
   "name": "python",
   "nbconvert_exporter": "python",
   "pygments_lexer": "ipython3",
   "version": "3.7.1"
  }
 },
 "nbformat": 4,
 "nbformat_minor": 2
}
