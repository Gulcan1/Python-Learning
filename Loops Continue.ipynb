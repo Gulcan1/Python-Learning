{
 "cells": [
  {
   "cell_type": "code",
   "execution_count": 2,
   "metadata": {},
   "outputs": [
    {
     "name": "stdout",
     "output_type": "stream",
     "text": [
      "1\n",
      "2\n",
      "3\n",
      "4\n",
      "5\n",
      "6\n",
      "7\n",
      "8\n",
      "9\n",
      "10\n",
      "11\n",
      "12\n",
      "13\n",
      "14\n",
      "15\n",
      "16\n",
      "17\n",
      "18\n",
      "19\n"
     ]
    }
   ],
   "source": [
    "variable=\"asdjasdhasdhasdsdsf\"\n",
    "number=0\n",
    "for i in variable:\n",
    "    number+=1\n",
    "    \n",
    "    print(number)"
   ]
  },
  {
   "cell_type": "code",
   "execution_count": 4,
   "metadata": {},
   "outputs": [
    {
     "name": "stdout",
     "output_type": "stream",
     "text": [
      "0\n",
      "1\n",
      "2\n",
      "3\n",
      "4\n",
      "5\n",
      "6\n",
      "7\n",
      "8\n",
      "9\n"
     ]
    }
   ],
   "source": [
    "for number in range(0,10):\n",
    "    print(number)"
   ]
  },
  {
   "cell_type": "code",
   "execution_count": 8,
   "metadata": {},
   "outputs": [
    {
     "name": "stdout",
     "output_type": "stream",
     "text": [
      "This is 0 'st loop'\n",
      "This is 1 'st loop'\n",
      "This is 2 'st loop'\n",
      "This is 3 'st loop'\n",
      "This is 4 'st loop'\n",
      "This is 5 'st loop'\n",
      "This is 6 'st loop'\n",
      "This is 7 'st loop'\n",
      "This is 8 'st loop'\n",
      "This is 9 'st loop'\n"
     ]
    }
   ],
   "source": [
    "for number in range(0,10):\n",
    "    print(\"This is\",number,\"'st loop'\")"
   ]
  },
  {
   "cell_type": "code",
   "execution_count": 10,
   "metadata": {},
   "outputs": [
    {
     "name": "stdout",
     "output_type": "stream",
     "text": [
      "This is 0 'st loop'\n",
      "This is 1 'st loop'\n",
      "This is 2 'st loop'\n",
      "This is 3 'st loop'\n",
      "This is 4 'st loop'\n",
      "This is 5 'st loop'\n",
      "This is 6 'st loop'\n",
      "This is 7 'st loop'\n",
      "This is 8 'st loop'\n",
      "This is 9 'st loop'\n"
     ]
    }
   ],
   "source": [
    "for number in range(10):\n",
    "    print(\"This is\",number,\"'st loop'\")"
   ]
  },
  {
   "cell_type": "code",
   "execution_count": 11,
   "metadata": {},
   "outputs": [
    {
     "name": "stdout",
     "output_type": "stream",
     "text": [
      "This is 0 'st loop'\n",
      "This is 2 'st loop'\n",
      "This is 4 'st loop'\n",
      "This is 6 'st loop'\n",
      "This is 8 'st loop'\n"
     ]
    }
   ],
   "source": [
    "for number in range(0,10,2):\n",
    "    print(\"This is\",number,\"'st loop'\")"
   ]
  },
  {
   "cell_type": "code",
   "execution_count": null,
   "metadata": {},
   "outputs": [],
   "source": []
  }
 ],
 "metadata": {
  "kernelspec": {
   "display_name": "Python 3",
   "language": "python",
   "name": "python3"
  },
  "language_info": {
   "codemirror_mode": {
    "name": "ipython",
    "version": 3
   },
   "file_extension": ".py",
   "mimetype": "text/x-python",
   "name": "python",
   "nbconvert_exporter": "python",
   "pygments_lexer": "ipython3",
   "version": "3.7.1"
  }
 },
 "nbformat": 4,
 "nbformat_minor": 2
}
